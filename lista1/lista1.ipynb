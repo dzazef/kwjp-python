{
  "nbformat": 4,
  "nbformat_minor": 0,
  "metadata": {
    "kernelspec": {
      "display_name": "Python 3",
      "language": "python",
      "name": "python3"
    },
    "language_info": {
      "codemirror_mode": {
        "name": "ipython",
        "version": 3
      },
      "file_extension": ".py",
      "mimetype": "text/x-python",
      "name": "python",
      "nbconvert_exporter": "python",
      "pygments_lexer": "ipython3",
      "version": "3.8.1"
    },
    "colab": {
      "name": "lista1.ipynb",
      "provenance": [],
      "collapsed_sections": []
    }
  },
  "cells": [
    {
      "cell_type": "markdown",
      "metadata": {
        "id": "1iR3rbf5M0xC",
        "colab_type": "text"
      },
      "source": [
        "# Lista 1\n",
        "\n",
        "## Kurs wybranego języka programowania (Python)\n",
        "\n",
        "Wszystkie rozwiązania proszę wpisać w tym notatniku poniżej treści zadań. Zadania z `*` to zadania dodatkowe."
      ]
    },
    {
      "cell_type": "markdown",
      "metadata": {
        "id": "7MExC2d3M0xI",
        "colab_type": "text"
      },
      "source": [
        "## Zadanie 1 _(5pt)_\n",
        "\n",
        "Napisz funkcję, który wyświetla trójkąt Pascala o zadanej wysokości\n",
        "```\n",
        "                1\n",
        "              1   1\n",
        "            1   2   1\n",
        "          1   3   3   1\n",
        "        1   4   6   4   1\n",
        "      .....................\n",
        "```"
      ]
    },
    {
      "cell_type": "code",
      "metadata": {
        "id": "LALonibyM0xO",
        "colab_type": "code",
        "colab": {}
      },
      "source": [
        "def pascal(n):\n",
        "    rows = [[1]]\n",
        "    row = [1]\n",
        "    k = [0]\n",
        "    for x in range(max(n - 1, 0)):\n",
        "        row = [l + r for (l, r) in zip(row + k, k + row)]\n",
        "        rows.append(row)\n",
        "    return rows\n",
        "\n",
        "\n",
        "def print_pascal(rows):\n",
        "    n = len(rows) - 1\n",
        "    max_val = len(str(rows[n-1][int(n/2)]))\n",
        "    for row in rows:\n",
        "        print(((max_val + 1) * \" \") * n, end='')\n",
        "        for elem in row:\n",
        "            print(\" \" + (str(elem) + (\" \" * (max_val - len(str(elem))))) + (max_val * \" \") + \" \", end='')\n",
        "        print(((max_val + 1) * \" \") * n)\n",
        "        n -= 1\n",
        "    pass\n",
        "\n",
        "print_pascal(pascal(15))"
      ],
      "execution_count": 0,
      "outputs": []
    },
    {
      "cell_type": "markdown",
      "metadata": {
        "id": "qK2jfR0XM0xb",
        "colab_type": "text"
      },
      "source": [
        "## Zadanie 2 _(5pt)_\n",
        "\n",
        "Napisz funkcję `primes(n)` zwracająca listę liczb pierwszych nie większych niż $n$ np.\n",
        "\n",
        "```\n",
        "In [ ]:   primes(6)\n",
        "Out [ ]: [2, 3, 5]\n",
        "```"
      ]
    },
    {
      "cell_type": "code",
      "metadata": {
        "id": "ic4WUuXKM0xe",
        "colab_type": "code",
        "colab": {}
      },
      "source": [
        "import math\n",
        "\n",
        "\n",
        "def primes(n):\n",
        "    values = list(range(2, n + 1))\n",
        "    c = 0\n",
        "    n_sqrt = int(math.sqrt(n))\n",
        "    while c < len(values) and values[c] <= n_sqrt:\n",
        "        i = c + 1\n",
        "        while i < len(values):\n",
        "            if values[i] % values[c] == 0:\n",
        "                values.pop(i)\n",
        "                i -= 1\n",
        "            i += 1\n",
        "        c += 1\n",
        "    return values\n",
        "\n",
        "primes(100)"
      ],
      "execution_count": 0,
      "outputs": []
    },
    {
      "cell_type": "markdown",
      "metadata": {
        "id": "q7YWsslxM0xn",
        "colab_type": "text"
      },
      "source": [
        "## Zadanie 3 _(5pt)_\n",
        "\n",
        "Napisz funkcje, która usuwa wszystkie powtarzające się elementy z listy (tak, że każdy element występuje tylko raz) np. z listy `[1,1,2,2,2,3,3,5,5,5,4,4,4,0]` dostajemy `[1,2,3,5,4,0]`."
      ]
    },
    {
      "cell_type": "code",
      "metadata": {
        "id": "PvuGGNwdM0xq",
        "colab_type": "code",
        "colab": {}
      },
      "source": [
        "def remove_duplicates(val_list):\n",
        "    i = 0\n",
        "    while i < len(val_list):\n",
        "        elem = val_list[i]\n",
        "        j = i + 1\n",
        "        while j < len(val_list):\n",
        "            if val_list[j] == elem:\n",
        "                val_list.pop(j)\n",
        "                j -= 1\n",
        "            j += 1\n",
        "        i += 1\n",
        "    return val_list\n",
        "\n",
        "remove_duplicates([1,1,2,2,2,3,3,5,5,5,4,4,4,0])"
      ],
      "execution_count": 0,
      "outputs": []
    },
    {
      "cell_type": "markdown",
      "metadata": {
        "id": "a47Ytkg3M0xx",
        "colab_type": "text"
      },
      "source": [
        "## Zadanie 4 _(10pt)_\n",
        "\n",
        "Napisz funkcję `prime_factors(n)`, która rozkłada $n$ na czynniki pierwsze i jako wynik wraca listę par $[(p_1,\\alpha_1), (p_2,\\alpha_2), \\ldots, (p_k, \\alpha_k)]$ taką, że $p_1^{\\alpha_1}p_2^{\\alpha_2}\\ldots p_k^{\\alpha_k}$.\n"
      ]
    },
    {
      "cell_type": "code",
      "metadata": {
        "id": "bi99DnKmM0x1",
        "colab_type": "code",
        "colab": {}
      },
      "source": [
        "import math\n",
        "\n",
        "\n",
        "def prime_factors(n):\n",
        "    factors = []\n",
        "    n = int(n)\n",
        "    if n < 2:\n",
        "        raise Exception(\"n is smaller than 2\")\n",
        "\n",
        "    for i in range(2, int(math.sqrt(n)) + 1):\n",
        "        flag = False\n",
        "        counter = 0\n",
        "        while n % i == 0:\n",
        "            flag = True\n",
        "            counter += 1\n",
        "            n /= i\n",
        "        if flag:\n",
        "            factors.append((i, counter))\n",
        "\n",
        "    return factors\n",
        "\n",
        "prime_factors(2*2*2*3*3*5*7*3*3*7)"
      ],
      "execution_count": 0,
      "outputs": []
    },
    {
      "cell_type": "markdown",
      "metadata": {
        "id": "aT-lHrEfM0x8",
        "colab_type": "text"
      },
      "source": [
        "## Zadanie 5 _(10pt)_\n",
        "\n",
        "Napisz funkcję `fraczero(n)` liczącą silnie $n!$ dla $n$ od $0$ do $10000$ oraz jako wynik wraca liczbę zer na końcu $n!$."
      ]
    },
    {
      "cell_type": "code",
      "metadata": {
        "id": "To0KQqPWM0x-",
        "colab_type": "code",
        "colab": {}
      },
      "source": [
        "def fraczero(n):\n",
        "    n = int(n)\n",
        "    if n < 0:\n",
        "        raise Exception(\"n should be >= 0\")\n",
        "\n",
        "    zeros = 0\n",
        "    factorial = 1\n",
        "    if n == 1 or n == 0:\n",
        "        return zeros\n",
        "    for i in range(2, n + 1):\n",
        "        factorial *= i\n",
        "        if i % 5 == 0:\n",
        "            zeros += 1\n",
        "    return zeros\n",
        "\n",
        "fraczero(10)"
      ],
      "execution_count": 0,
      "outputs": []
    },
    {
      "cell_type": "markdown",
      "metadata": {
        "id": "NCPrX6dyM0yE",
        "colab_type": "text"
      },
      "source": [
        "## Zadanie 6 _(10pt)_\n",
        "\n",
        "Napisz program, który generuje liczbę $20$ liczb losowych (rozkład jednostajny) od $1$ do $100$\n",
        "* Wyświetl listę wygenerowanych liczb\n",
        "* Wyświetl średnią\n",
        "* Wyświetl największą i najmniejszą wartość\n",
        "* Wyświetl drugą największą i drugą najmniejszą wartość na liście\n",
        "* Wyświetl ile jest liczb parzystych na liście\n",
        " "
      ]
    },
    {
      "cell_type": "code",
      "metadata": {
        "id": "UKIyLDuiM0yH",
        "colab_type": "code",
        "colab": {}
      },
      "source": [
        "import random\n",
        "\n",
        "\n",
        "rand_list = [int(random.random() * 100) for i in range(10)]\n",
        "\n",
        "# avg\n",
        "avg_val = sum(rand_list) / len(rand_list)\n",
        "\n",
        "# max\n",
        "max_val = max(rand_list)\n",
        "\n",
        "# min\n",
        "min_val = min(rand_list)\n",
        "\n",
        "# second max\n",
        "snd_max_val = max([x for x in rand_list if x is not max(rand_list)])\n",
        "# temp = list(rand_list)\n",
        "# temp.remove(max(temp))\n",
        "# snd_max_val = max(temp)\n",
        "\n",
        "# second min\n",
        "snd_min_val = min([x for x in rand_list if x is not min(rand_list)])\n",
        "# temp = list(rand_list)\n",
        "# temp.remove(min(temp))\n",
        "# snd_min_val = min(temp)\n",
        "\n",
        "# evens\n",
        "evens_val = len([x for x in rand_list if x % 2 == 0])\n",
        "\n",
        "print(rand_list)\n",
        "print(f'{avg_val}\\n{max_val}\\n{min_val}\\n{snd_max_val}\\n{snd_min_val}\\n{evens_val}\\n')\n"
      ],
      "execution_count": 0,
      "outputs": []
    },
    {
      "cell_type": "markdown",
      "metadata": {
        "id": "TlfTEDeZM0yP",
        "colab_type": "text"
      },
      "source": [
        "## Zadanie 7 _(10pt)_\n",
        "\n",
        "Załóżmy, że mamy następującą listę: `L = ['aababacaa', 'cabaabcca', 'aaabbcbacb', 'acababbaab', ...]` wygenerowaną losowo tzn. lista zawiera losowe ciągi znaków o zadanej długości z liter `'a'`, `'b'` i `'c'`. Takie wzorce występują w wielu miejscach np. sekwencje DNA. Użytkownik zawiera swój (wzorzec) ciąg znaków z literami i pustymi miejscami oznaczonymi przez `'*'` np. `\"a**a******\"`. Wykorzystaj słownik z kluczami zawierającymi indeksy znaków różnych od `'*'` i wartościami liter z wzorca. Napisz program, który znajduje wszystkie sekwencje z listy, które pasuje do podanego wzorca."
      ]
    },
    {
      "cell_type": "code",
      "metadata": {
        "id": "WHmxVmp2M0yQ",
        "colab_type": "code",
        "colab": {}
      },
      "source": [
        "from random import randint\n",
        "\n",
        "_n = 10\n",
        "\n",
        "\n",
        "def generate_string(n):\n",
        "    value = \"\"\n",
        "    for i in range(n):\n",
        "        r = randint(0, 2)\n",
        "        if r is 0:\n",
        "            value += 'a'\n",
        "        elif r is 1:\n",
        "            value += 'b'\n",
        "        else:\n",
        "            value += 'c'\n",
        "    return value\n",
        "\n",
        "\n",
        "def generate_list(n, k):\n",
        "    values = []\n",
        "    for i in range(n):\n",
        "        values.append(generate_string(k))\n",
        "    return values\n",
        "\n",
        "\n",
        "def string_to_dict(s):\n",
        "    _dict = {}\n",
        "    for i in range(len(s)):\n",
        "        if s[i] != '*':\n",
        "            _dict[i] = s[i]\n",
        "    return _dict\n",
        "\n",
        "\n",
        "def find_matches(patt_dict, value_list):\n",
        "    matches = []\n",
        "    for val in value_list:\n",
        "        flag_match = True\n",
        "        for idx in patt_dict:\n",
        "            if patt_dict[idx] != val[idx]:\n",
        "                flag_match = False\n",
        "        if flag_match:\n",
        "            matches.append(val)\n",
        "    return matches\n",
        "\n",
        "\n",
        "def run(n, k):\n",
        "    rand_str_list = generate_list(n, k)\n",
        "    print(rand_str_list)\n",
        "\n",
        "    x = input('$- ')\n",
        "    for c in x:\n",
        "        if (c is not 'a' and c is not 'b' and c is not 'c' and c is not '*') \\\n",
        "                or len(x) != _n:\n",
        "            raise Exception('Incorrect string')\n",
        "\n",
        "    patt_dict = string_to_dict(x)\n",
        "    matches = find_matches(patt_dict, rand_str_list)\n",
        "    print(matches)\n",
        "\n",
        "\n",
        "run(_n, _n)\n"
      ],
      "execution_count": 0,
      "outputs": []
    },
    {
      "cell_type": "markdown",
      "metadata": {
        "id": "A2gFVN2CM0yX",
        "colab_type": "text"
      },
      "source": [
        "## Zadanie 8 _(10pt)_\n",
        "\n",
        "Napisz program, który konwerteruje liczby rzymskie na liczby arabskie. Do zapisu liczb rzymskich używa\n",
        "się 7 liter: `I=1`, `V=5`, `X=10`, `L=50`, `C=100`, `D=500`, `M=1000`. Opis algorytmu zamiany z i na system rzymski można znaleźć np. [tutaj](http://www.algorytm.org/algorytmy-arytmetyczne/zamiana-z-i-na-system-rzymski.html)"
      ]
    },
    {
      "cell_type": "code",
      "metadata": {
        "id": "M1NZnFCLM0ya",
        "colab_type": "code",
        "colab": {}
      },
      "source": [
        "import re\n",
        "\n",
        "\n",
        "class RzymArabException(Exception):\n",
        "    pass\n",
        "\n",
        "\n",
        "class RzymToArab:\n",
        "    rzym_arab = {'I': 1, 'V': 5, 'X': 10, 'L': 50, 'C': 100, 'D': 500, 'M': 1000}\n",
        "    rzym_pattern = '^M{0,4}(CM|CD|D?C{0,3})(XC|XL|L?X{0,3})(IX|IV|V?I{0,3})$'\n",
        "\n",
        "    def translate(self, s):\n",
        "        pattern = re.compile(self.rzym_pattern)\n",
        "        if pattern.match(s) is None:\n",
        "            raise RzymArabException()\n",
        "\n",
        "        value = self.rzym_arab[s[0]]\n",
        "        for i in range(1, len(s)):\n",
        "            if self.rzym_arab[s[i]] > self.rzym_arab[s[i - 1]]:\n",
        "                value -= self.rzym_arab[s[i - 1]]\n",
        "                value += self.rzym_arab[s[i]] - self.rzym_arab[s[i - 1]]\n",
        "            else:\n",
        "                value += self.rzym_arab[s[i]]\n",
        "        return value\n",
        "\n",
        "print(RzymToArab().translate('CMXXXIV'))"
      ],
      "execution_count": 0,
      "outputs": []
    },
    {
      "cell_type": "markdown",
      "metadata": {
        "id": "eI8HdTXRM0yg",
        "colab_type": "text"
      },
      "source": [
        "## Zadanie 9* _(5pt)_\n",
        "\n",
        "Napisz program kalkulator, który pobiera wprowadzone wartości oraz funkcje z klawiatury następnie podaje wynik. W przypadku błędnych danych zgłasza błąd.\n",
        "\n",
        "Przykładowa sesja:\n",
        "```\n",
        "    Kalkulator\n",
        "    [1]: 2+5*10\n",
        "        52\n",
        "    [2]: sin(0.5)+cos(0.3)\n",
        "        1.434762027729809\n",
        "    [3]: 2^100\n",
        "        1267650600228229401496703205376\n",
        "```\n",
        "\n",
        "Przykładowy kod pobierania danych od użytkownika:\n",
        "\n",
        "```\n",
        "    x = input('Podaj x = ')\n",
        "```"
      ]
    },
    {
      "cell_type": "code",
      "metadata": {
        "id": "YB01LdWtM0yk",
        "colab_type": "code",
        "colab": {}
      },
      "source": [
        "from math import *\n",
        "\n",
        "while True:\n",
        "    print(eval(input('$- ')))"
      ],
      "execution_count": 0,
      "outputs": []
    },
    {
      "cell_type": "markdown",
      "metadata": {
        "id": "qqRst2okM0yp",
        "colab_type": "text"
      },
      "source": [
        "\n",
        "## Zadanie 10* _(10pt)_\n",
        "\n",
        "Napisz program, który rysuje na ekranie w trybie znakowym wykres funkcji zmiennej $x$. Wskazówka: utwórz  ,,tablicę dwuwymiarową'' o wymiarach 80x24 i narysuj wykres w tej tablicy. Następnie wynik wyświetl na ekranie.\n",
        "\n",
        "```\n",
        "        Podaj funkcje f(x) = sin(x)\n",
        "        Podaj początek przedziału a = -pi\n",
        "        Podaj koniec przedziału b = pi\n",
        "                                                |\n",
        "                                                |\n",
        "                                                |              ***********\n",
        "                                                |           ***           ***\n",
        "                                                |         **                 **\n",
        "                                                |        *                     *\n",
        "                                                |      **                       **\n",
        "                                                |     *                           *\n",
        "                                                |   **                             **\n",
        "                                                |  *                                 *\n",
        "                                                | *                                   *\n",
        "                                                |*                                     *\n",
        "        ----------------------------------------|---------------------------------------\n",
        "          *                                   * |\n",
        "           *                                 *  |\n",
        "            **                             **   |\n",
        "              *                           *     |\n",
        "               **                       **      |\n",
        "                 *                     *        |\n",
        "                  **                 **         |\n",
        "                    ***           ***           |\n",
        "                       ***** *****              |\n",
        "                            *                   |\n",
        "                                                |\n",
        "```"
      ]
    },
    {
      "cell_type": "code",
      "metadata": {
        "id": "Ew9ELEzoM0ys",
        "colab_type": "code",
        "outputId": "d21f59e3-a9d3-42a3-b944-cecb82b1f564",
        "colab": {
          "base_uri": "https://localhost:8080/",
          "height": 503
        }
      },
      "source": [
        "import math\n",
        "\n",
        "\n",
        "class Graph:\n",
        "    def __init__(self, x_dim=80, y_dim=24, scale_y=1.2):\n",
        "        assert isinstance(x_dim, int) and isinstance(y_dim, int)\n",
        "        assert isinstance(scale_y, int) or isinstance(scale_y, float)\n",
        "        assert x_dim > 10 and y_dim > 10 and scale_y > 1\n",
        "        self.x_dim = x_dim + (x_dim + 1) % 2\n",
        "        self.y_dim = y_dim + (y_dim + 1) % 2\n",
        "        self.x_mid = int(self.x_dim / 2)\n",
        "        self.y_mid = int(self.y_dim / 2)\n",
        "        self.scale_y = scale_y\n",
        "\n",
        "    def __get_empty_matrix(self):\n",
        "        # noinspection PyUnusedLocal\n",
        "        _graph = [[\" \" for a in range(self.y_dim)] for a in range(self.x_dim)]\n",
        "        for i in range(self.x_dim):\n",
        "            _graph[i][self.y_mid] = \"-\"\n",
        "        for i in range(self.y_dim):\n",
        "            _graph[self.x_mid][i] = \"|\"\n",
        "        self.graph = _graph\n",
        "\n",
        "    def __calc(self, f, f_min, f_max):\n",
        "        results = []\n",
        "        max_abs = 0\n",
        "        step = (f_max - f_min) / (self.x_dim - 1)\n",
        "        for x in range(self.x_dim):\n",
        "            f_x = f(f_min + step * x)\n",
        "            results.append(f_x)\n",
        "            if abs(f_x) > max_abs:\n",
        "                max_abs = f_x\n",
        "        results[self.x_mid] = None\n",
        "        return results, max_abs\n",
        "\n",
        "    def __print_graph(self):\n",
        "        for y in range(self.y_dim):\n",
        "            for x in range(self.x_dim):\n",
        "                print(self.graph[x][y], end='')\n",
        "            print()\n",
        "\n",
        "    def __mod_graph_from_res(self, results, max_abs):\n",
        "        scale = self.y_mid / (max_abs * self.scale_y)\n",
        "        for x in range(self.x_dim):\n",
        "            c_res = results[x]\n",
        "            if c_res is not None:\n",
        "                scaled = int(scale * c_res)\n",
        "                y = self.y_mid - scaled\n",
        "                try:\n",
        "                    self.graph[x][y] = \"*\"\n",
        "                except IndexError:\n",
        "                    pass\n",
        "\n",
        "    def draw(self, f, f_min, f_max):\n",
        "        self.__get_empty_matrix()\n",
        "        results, max_abs = self.__calc(f, f_min, f_max)\n",
        "        self.__mod_graph_from_res(results, max_abs)\n",
        "        self.__print_graph()\n",
        "\n",
        "\n",
        "dict_f = {\"cos(x)\": lambda x: math.cos(x),\n",
        "          \"sin(x)\": lambda x: math.sin(x),\n",
        "          \"x\": lambda x: x,\n",
        "          \"2x\": lambda x: 2 * x\n",
        "          }\n",
        "\n",
        "graph = Graph()\n",
        "f, a, b = 0, 0, 0\n",
        "try:\n",
        "    f = dict_f[input(\"f(x) = \")]\n",
        "except KeyError:\n",
        "    print(\"incorrect f(x)\")\n",
        "    exit(1)\n",
        "try:\n",
        "    a = float(input(\"a = \"))\n",
        "except ValueError:\n",
        "    print(\"incorrect a\")\n",
        "    exit(1)\n",
        "try:\n",
        "    b = float(input(\"b = \"))\n",
        "except ValueError:\n",
        "    print(\"incorrect b\")\n",
        "    exit(1)\n",
        "graph.draw(f, a, b)\n"
      ],
      "execution_count": 3,
      "outputs": [
        {
          "output_type": "stream",
          "text": [
            "f(x) = sin(x)\n",
            "a = -3.14\n",
            "b = 3.14\n",
            "                                        |                                        \n",
            "                                        |                                        \n",
            "                                        |                   *                    \n",
            "                                        |              ***** *****               \n",
            "                                        |           ***           ***            \n",
            "                                        |         **                 **          \n",
            "                                        |        *                     *         \n",
            "                                        |      **                       **       \n",
            "                                        |     *                           *      \n",
            "                                        |   **                             **    \n",
            "                                        |  *                                 *   \n",
            "                                        | *                                   *  \n",
            "**-------------------------------------*|*-------------------------------------**\n",
            "  *                                   * |                                        \n",
            "   *                                 *  |                                        \n",
            "    **                             **   |                                        \n",
            "      *                           *     |                                        \n",
            "       **                       **      |                                        \n",
            "         *                     *        |                                        \n",
            "          **                 **         |                                        \n",
            "            ***           ***           |                                        \n",
            "               ***** *****              |                                        \n",
            "                    *                   |                                        \n",
            "                                        |                                        \n",
            "                                        |                                        \n"
          ],
          "name": "stdout"
        }
      ]
    }
  ]
}